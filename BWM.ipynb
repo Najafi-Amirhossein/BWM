{
 "cells": [
  {
   "cell_type": "code",
   "execution_count": null,
   "id": "930ec069",
   "metadata": {
    "scrolled": true
   },
   "outputs": [],
   "source": [
    "! pip install pyomo\n",
    "! pip install glpk"
   ]
  },
  {
   "cell_type": "code",
   "execution_count": 1,
   "id": "211f9052",
   "metadata": {},
   "outputs": [
    {
     "data": {
      "text/html": [
       "<div>\n",
       "<style scoped>\n",
       "    .dataframe tbody tr th:only-of-type {\n",
       "        vertical-align: middle;\n",
       "    }\n",
       "\n",
       "    .dataframe tbody tr th {\n",
       "        vertical-align: top;\n",
       "    }\n",
       "\n",
       "    .dataframe thead th {\n",
       "        text-align: right;\n",
       "    }\n",
       "</style>\n",
       "<table border=\"1\" class=\"dataframe\">\n",
       "  <thead>\n",
       "    <tr style=\"text-align: right;\">\n",
       "      <th></th>\n",
       "      <th>Number</th>\n",
       "      <th>Criteria</th>\n",
       "      <th>Best</th>\n",
       "      <th>Worst</th>\n",
       "    </tr>\n",
       "  </thead>\n",
       "  <tbody>\n",
       "    <tr>\n",
       "      <th>0</th>\n",
       "      <td>1</td>\n",
       "      <td>Criteria 1</td>\n",
       "      <td>8</td>\n",
       "      <td>1</td>\n",
       "    </tr>\n",
       "    <tr>\n",
       "      <th>1</th>\n",
       "      <td>2</td>\n",
       "      <td>Criteria 2</td>\n",
       "      <td>2</td>\n",
       "      <td>5</td>\n",
       "    </tr>\n",
       "    <tr>\n",
       "      <th>2</th>\n",
       "      <td>3</td>\n",
       "      <td>Criteria 3</td>\n",
       "      <td>1</td>\n",
       "      <td>8</td>\n",
       "    </tr>\n",
       "  </tbody>\n",
       "</table>\n",
       "</div>"
      ],
      "text/plain": [
       "   Number    Criteria  Best  Worst\n",
       "0       1  Criteria 1     8      1\n",
       "1       2  Criteria 2     2      5\n",
       "2       3  Criteria 3     1      8"
      ]
     },
     "execution_count": 1,
     "metadata": {},
     "output_type": "execute_result"
    }
   ],
   "source": [
    "import pandas as pd\n",
    "pd.options.mode.chained_assignment = None  # default='warn'\n",
    "#Read Data\n",
    "df = pd.read_excel(\"C:\\\\Users\\\\Amirhossein\\\\Desktop\\\\Data.xlsx\") \n",
    "df"
   ]
  },
  {
   "attachments": {
    "image.png": {
     "image/png": "[encoded data removed]"
    }
   },
   "cell_type": "markdown",
   "id": "8c8c7fe5",
   "metadata": {},
   "source": [
    "![image.png](attachment:image.png)"
   ]
  },
  {
   "cell_type": "code",
   "execution_count": 2,
   "id": "ed599be3",
   "metadata": {},
   "outputs": [
    {
     "name": "stdout",
     "output_type": "stream",
     "text": [
      "GLPSOL--GLPK LP/MIP Solver 5.0\n",
      "Parameter(s) specified in the command line:\n",
      " --write C:\\Users\\AMIRHO~1\\AppData\\Local\\Temp\\tmpb8i0l7nq.glpk.raw --wglp\n",
      " C:\\Users\\AMIRHO~1\\AppData\\Local\\Temp\\tmp9_8cf6sx.glpk.glp --cpxlp C:\\Users\\AMIRHO~1\\AppData\\Local\\Temp\\tmpu0o4myw5.pyomo.lp\n",
      "Reading problem data from 'C:\\Users\\AMIRHO~1\\AppData\\Local\\Temp\\tmpu0o4myw5.pyomo.lp'...\n",
      "14 rows, 5 columns, 32 non-zeros\n",
      "87 lines were read\n",
      "Writing problem data to 'C:\\Users\\AMIRHO~1\\AppData\\Local\\Temp\\tmp9_8cf6sx.glpk.glp'...\n",
      "72 lines were written\n",
      "GLPK Simplex Optimizer 5.0\n",
      "14 rows, 5 columns, 32 non-zeros\n",
      "Preprocessing...\n",
      "9 rows, 4 columns, 27 non-zeros\n",
      "Scaling...\n",
      " A: min|aij| =  1.000e+00  max|aij| =  8.000e+00  ratio =  8.000e+00\n",
      "Problem data seem to be well scaled\n",
      "Constructing initial basis...\n",
      "Size of triangular part is 9\n",
      "      0: obj =   0.000000000e+00 inf =   3.000e+00 (2)\n",
      "      5: obj =   3.571428571e-02 inf =   0.000e+00 (0)\n",
      "OPTIMAL LP SOLUTION FOUND\n",
      "Time used:   0.0 secs\n",
      "Memory used: 0.0 Mb (42243 bytes)\n",
      "Writing basic solution to 'C:\\Users\\AMIRHO~1\\AppData\\Local\\Temp\\tmpb8i0l7nq.glpk.raw'...\n",
      "28 lines were written\n",
      "ksi=  0.0357142857142857\n"
     ]
    }
   ],
   "source": [
    "#=============================================================================\n",
    "# Model\n",
    "#=============================================================================\n",
    "import pyomo.environ as pyo\n",
    "Model = pyo.ConcreteModel()\n",
    "BestNum=int(df.loc[df['Best'] == 1][\"Number\"])\n",
    "WorstNum=int(df.loc[df['Worst'] == 1][\"Number\"])\n",
    "\n",
    "# Set and variable\n",
    "Model.i=pyo.RangeSet(1,df.shape[0])\n",
    "Model.W=pyo.Var(Model.i, within=pyo.PercentFraction)\n",
    "Model.ksi=pyo.Var(within=pyo.PositiveReals)\n",
    "\n",
    "def obj1(model):\n",
    "    return Model.ksi\n",
    "Model.obj1=pyo.Objective(expr=obj1 ,sense=pyo.minimize)\n",
    "# Model.obj1.pprint()\n",
    "\n",
    "def Co1(Model, s):\n",
    "    return (Model.W[BestNum]-df[\"Best\"][s-1]*Model.W[s])<=Model.ksi\n",
    "Model.Co1 = pyo.Constraint(Model.i , rule=Co1)\n",
    "# Model.Co1.pprint()\n",
    "\n",
    "def Co2(Model, s):\n",
    "    return (Model.W[BestNum]-df[\"Best\"][s-1]*Model.W[s])>=-Model.ksi\n",
    "Model.Co2 = pyo.Constraint(Model.i , rule=Co2)\n",
    "# Model.Co2.pprint()\n",
    "\n",
    "def Co3(Model, s):\n",
    "    return (Model.W[s]-df[\"Worst\"][s-1]*Model.W[WorstNum])<=Model.ksi\n",
    "Model.Co3 = pyo.Constraint(Model.i , rule=Co3)\n",
    "# Model.Co3.pprint()\n",
    "\n",
    "def Co4(Model, s):\n",
    "    return (Model.W[s]-df[\"Worst\"][s-1]*Model.W[WorstNum])>=-Model.ksi\n",
    "Model.Co4 = pyo.Constraint(Model.i , rule=Co4)\n",
    "# Model.Co4.pprint()\n",
    "\n",
    "def Co5(Model):\n",
    "    return sum(Model.W[i] for i in Model.i)==1\n",
    "Model.Co5 = pyo.Constraint(rule=Co5)\n",
    "# Model.Co5.pprint()\n",
    "\n",
    "import pyomo.opt as pyopt\n",
    "results=pyopt.SolverFactory(\"glpk\").solve(Model, tee=True) # doctest: +SKIP\n",
    "\n",
    "print(\"ksi= \",Model.ksi())\n",
    "df[\"Weight\"]=0.0\n",
    "for i in Model.i:\n",
    "    df[\"Weight\"][i-1]=Model.W[i]()\n",
    "df['rank'] = df['Weight'].rank()"
   ]
  },
  {
   "cell_type": "code",
   "execution_count": 3,
   "id": "4e5d06d4",
   "metadata": {},
   "outputs": [
    {
     "data": {
      "text/html": [
       "<div>\n",
       "<style scoped>\n",
       "    .dataframe tbody tr th:only-of-type {\n",
       "        vertical-align: middle;\n",
       "    }\n",
       "\n",
       "    .dataframe tbody tr th {\n",
       "        vertical-align: top;\n",
       "    }\n",
       "\n",
       "    .dataframe thead th {\n",
       "        text-align: right;\n",
       "    }\n",
       "</style>\n",
       "<table border=\"1\" class=\"dataframe\">\n",
       "  <thead>\n",
       "    <tr style=\"text-align: right;\">\n",
       "      <th></th>\n",
       "      <th>Number</th>\n",
       "      <th>Criteria</th>\n",
       "      <th>Best</th>\n",
       "      <th>Worst</th>\n",
       "      <th>Weight</th>\n",
       "      <th>rank</th>\n",
       "    </tr>\n",
       "  </thead>\n",
       "  <tbody>\n",
       "    <tr>\n",
       "      <th>0</th>\n",
       "      <td>1</td>\n",
       "      <td>Criteria 1</td>\n",
       "      <td>8</td>\n",
       "      <td>1</td>\n",
       "      <td>0.071429</td>\n",
       "      <td>1.0</td>\n",
       "    </tr>\n",
       "    <tr>\n",
       "      <th>1</th>\n",
       "      <td>2</td>\n",
       "      <td>Criteria 2</td>\n",
       "      <td>2</td>\n",
       "      <td>5</td>\n",
       "      <td>0.321429</td>\n",
       "      <td>2.0</td>\n",
       "    </tr>\n",
       "    <tr>\n",
       "      <th>2</th>\n",
       "      <td>3</td>\n",
       "      <td>Criteria 3</td>\n",
       "      <td>1</td>\n",
       "      <td>8</td>\n",
       "      <td>0.607143</td>\n",
       "      <td>3.0</td>\n",
       "    </tr>\n",
       "  </tbody>\n",
       "</table>\n",
       "</div>"
      ],
      "text/plain": [
       "   Number    Criteria  Best  Worst    Weight  rank\n",
       "0       1  Criteria 1     8      1  0.071429   1.0\n",
       "1       2  Criteria 2     2      5  0.321429   2.0\n",
       "2       3  Criteria 3     1      8  0.607143   3.0"
      ]
     },
     "execution_count": 3,
     "metadata": {},
     "output_type": "execute_result"
    }
   ],
   "source": [
    "df"
   ]
  }
 ],
 "metadata": {
  "kernelspec": {
   "display_name": "Python 3.9.7 ('base')",
   "language": "python",
   "name": "python3"
  },
  "language_info": {
   "codemirror_mode": {
    "name": "ipython",
    "version": 3
   },
   "file_extension": ".py",
   "mimetype": "text/x-python",
   "name": "python",
   "nbconvert_exporter": "python",
   "pygments_lexer": "ipython3",
   "version": "3.9.7"
  },
  "vscode": {
   "interpreter": {
    "hash": "c33ef0d4398937ecb5268daa690e9c83c694125b3e6c89d9a5ef925d0e1e9cba"
   }
  }
 },
 "nbformat": 4,
 "nbformat_minor": 5
}
